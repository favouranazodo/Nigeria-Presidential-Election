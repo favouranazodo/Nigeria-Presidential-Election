{
 "cells": [
  {
   "cell_type": "markdown",
   "id": "a9ab07e7",
   "metadata": {},
   "source": [
    "# Project Plan\n",
    "**Start Date: 3/10/2022**\n",
    "\n",
    "**Proposed End Date: 30/11/2022**\n",
    "## Phase 1\n",
    "**Data gathering:**\n",
    "* Most likely webscrapping or if there are available open APIs\n",
    "* Gather election result data for the year 1999, 2003, 2007, 2011, 2015 and 2019\n",
    "* Get data from at least 3 sources and compare to ensure authenticity of data\n",
    "\n",
    "**How the Project ought to be**\n",
    "\n",
    "*After gathering and necessary cleaning*\n",
    "* Main purpose is to see how results turned out in each state and then group in each geo-political zone\n",
    "* Research for event (in specific state or country) that might have been the cause for the turn-out of result\n",
    "* Research how winner emerges based on INEC law.\n",
    "\n",
    "## Phase 2\n",
    "*Looking forward to 2023*\n",
    "* Can a prediction model be built?"
   ]
  },
  {
   "cell_type": "code",
   "execution_count": 1,
   "id": "34ae9335",
   "metadata": {},
   "outputs": [
    {
     "name": "stdout",
     "output_type": "stream",
     "text": [
      "Requirement already satisfied: pytesseract in c:\\users\\favour\\anaconda3\\lib\\site-packages (0.3.10)\n",
      "Requirement already satisfied: packaging>=21.3 in c:\\users\\favour\\anaconda3\\lib\\site-packages (from pytesseract) (21.3)\n",
      "Requirement already satisfied: Pillow>=8.0.0 in c:\\users\\favour\\anaconda3\\lib\\site-packages (from pytesseract) (8.2.0)\n",
      "Requirement already satisfied: pyparsing!=3.0.5,>=2.0.2 in c:\\users\\favour\\anaconda3\\lib\\site-packages (from packaging>=21.3->pytesseract) (2.4.7)\n",
      "Note: you may need to restart the kernel to use updated packages.\n"
     ]
    }
   ],
   "source": [
    "pip install pytesseract"
   ]
  }
 ],
 "metadata": {
  "kernelspec": {
   "display_name": "Python 3",
   "language": "python",
   "name": "python3"
  },
  "language_info": {
   "codemirror_mode": {
    "name": "ipython",
    "version": 3
   },
   "file_extension": ".py",
   "mimetype": "text/x-python",
   "name": "python",
   "nbconvert_exporter": "python",
   "pygments_lexer": "ipython3",
   "version": "3.8.8"
  }
 },
 "nbformat": 4,
 "nbformat_minor": 5
}
