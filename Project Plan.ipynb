{
 "cells": [
  {
   "cell_type": "markdown",
   "id": "a9ab07e7",
   "metadata": {},
   "source": [
    "# Project Plan\n",
    "**Start Date: 3/10/2022**\n",
    "\n",
    "**Proposed End Date: 30/11/2022**\n",
    "## Phase 1\n",
    "**Data gathering:**\n",
    "* Most likely webscrapping or if there are available open APIs\n",
    "* Gather election result data for the year 1999, 2003, 2007, 2011, 2015 and 2019\n",
    "* Get data from at least 3 sources and compare to ensure authenticity of data\n",
    "\n",
    "**How the Project ought to be**\n",
    "\n",
    "*After gathering and necessary cleaning*\n",
    "* Main purpose is to see how results turned out in each state and then group in each geo-political zone\n",
    "* Research for event (in specific state or country) that might have been the cause for the turn-out of result\n",
    "* Research how winner emerges based on INEC law.\n",
    "\n",
    "## Phase 2\n",
    "*Looking forward to 2023*\n",
    "* Can a prediction model be built?"
   ]
  }
 ],
 "metadata": {
  "kernelspec": {
   "display_name": "Python 3",
   "language": "python",
   "name": "python3"
  },
  "language_info": {
   "codemirror_mode": {
    "name": "ipython",
    "version": 3
   },
   "file_extension": ".py",
   "mimetype": "text/x-python",
   "name": "python",
   "nbconvert_exporter": "python",
   "pygments_lexer": "ipython3",
   "version": "3.8.8"
  }
 },
 "nbformat": 4,
 "nbformat_minor": 5
}
