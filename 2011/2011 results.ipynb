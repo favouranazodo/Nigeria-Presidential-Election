{
 "cells": [
  {
   "cell_type": "code",
   "execution_count": 1,
   "id": "62aa77f0",
   "metadata": {},
   "outputs": [],
   "source": [
    "import pandas as pd\n",
    "import numpy as np\n",
    "import matplotlib.pyplot as plt\n",
    "import seaborn as sns\n",
    "import requests\n",
    "from bs4 import BeautifulSoup as BS\n",
    "import re\n",
    "import csv"
   ]
  },
  {
   "cell_type": "markdown",
   "id": "a172cbf8",
   "metadata": {},
   "source": [
    "## Reuters"
   ]
  },
  {
   "cell_type": "code",
   "execution_count": 3,
   "id": "878355ce",
   "metadata": {},
   "outputs": [],
   "source": [
    "reuters_url = \"https://reuters.com/article/nigeria-elections-results-idAFLDE73G05B20110418\"\n",
    "reuters_html = requests.get(reuters_url)"
   ]
  },
  {
   "cell_type": "code",
   "execution_count": 5,
   "id": "34d6e863",
   "metadata": {},
   "outputs": [],
   "source": [
    "soup = BS(reuters_html.text, 'html.parser')"
   ]
  },
  {
   "cell_type": "code",
   "execution_count": 34,
   "id": "3905ff27",
   "metadata": {},
   "outputs": [
    {
     "data": {
      "text/plain": [
       "[<pre> ABUJA, April 17 (Reuters) - Below is a table of results from\n",
       " states around Nigeria from Saturday's presidential elections.</pre>,\n",
       " <pre> The figures show the number of votes won by the main\n",
       " candidates in each state. There are 36 states plus Abuja, the\n",
       " Federal Capital Territory (FCT).</pre>,\n",
       " <pre> The Independent National Electoral Commission has yet to\n",
       " centrally confirm all of the figures, which may mean slight\n",
       " adjustments to some numbers.</pre>,\n",
       " <pre> \n",
       " </pre>,\n",
       " <pre>                    PDP          CPC        ACN         ANPP\n",
       "  \n",
       "  ABIA            1,175,984        3,743      4,392        1,455\n",
       "  ADAMAWA           508,314      344,526     32,786        2,706\n",
       "  AKWA-IBOM       1,165,629        5,348     54,148        2,000\n",
       "  ANAMBRA         1,145,169        4,223      3,537          975\n",
       "  BAUCHI            258,404    1,315,209     16,674        8,777\n",
       "  BAYELSA           504,811          691        370          136\n",
       "  BENUE             694,776      109,680    223,007        8,592\n",
       "  BORNO             207,075      909,763      7,533       37,279\n",
       "  CROSS RIVER       709,382        4,002      5,839        2,521\n",
       "  DELTA           1,378,851        8,960     13,110        2,746\n",
       "  EBONYI            480,592        1,025      1,112       14,296\n",
       "  EDO               542,173       17,795     54,242        2,174\n",
       "  EKITI             185,009        2,689    116,981        1,482\n",
       "  ENUGU             802,144        3,753      1,755        1,111\n",
       "  FCT               253,444      131,576      2,327        3,170\n",
       "  GOMBE             290,376      495,898      3,420          136\n",
       "  IMO             1,381,357        7,591     14,821        2,520\n",
       "  JIGAWA            491,252      663,994     17,353        7,676\n",
       "  KADUNA          1,190,179    1,334,244     11,278       17,301\n",
       "  KANO              440,666    1,624,543     42,353      526,310\n",
       "  KATSINA           428,392    1,163,919     10,945        6,342\n",
       "  KEBBI             369,198      501,453     26,171        3,298\n",
       "  KOGI              399,816      132,201      6,516       16,491\n",
       "  KWARA             268,243       83,603     52,432        1,672\n",
       "  LAGOS           1,281,688      189,983    427,203        8,941\n",
       "  NASARAWA          408,997      278,390      1,204        1,047\n",
       "  NIGER             321,429      652,574     13,344        7,138\n",
       "  OGUN              309,177       17,654    199,555        2,969\n",
       "  ONDO              387,376       11,890     74,253        6,741\n",
       "  OSUN              188,409        6,997    299,711        3,617\n",
       "  OYO               484,758       92,396    252,240        7,156\n",
       "  PLATEAU         1,029,865      356,551     10,181        5,235\n",
       "  RIVERS          1,817,762       13,182     16,382        1,449\n",
       "  SOKOTO            309,057      540,769     20,144        5,063\n",
       "  TARABA            451,354      257,986     17,791        1,203\n",
       "  YOBE              117,128      337,537      6,069      143,179\n",
       "  ZAMFARA           238,180      624,515     17,970       46,554\n",
       "  \n",
       "  TOTAL          22,616,416   12,250,853  2,079,151      911,455\n",
       "  \n",
       "  CANDIDATES AND PARTIES</pre>,\n",
       " <pre> \n",
       "  PDP - Goodluck Jonathan (People's Democratic Party)\n",
       "  CPC - Muhammadu Buhari (Congress for Progressive Change)\n",
       "  ACN - Nuhu Ribadu (Action Congress of Nigeria)\n",
       "  ANPP - Ibrahim Shekarau (All Nigeria Peoples Party)\n",
       "  \n",
       "   (For more Reuters Africa coverage and to have your say on the\n",
       " top issues, visit: <a href=\"http://af.reuters.com/\">af.reuters.com/</a> )\n",
       "   (Reporting by Reuters correspondents in Nigeria; Compiled by\n",
       " Nick Tattersall)\n",
       " \n",
       " \n",
       " </pre>]"
      ]
     },
     "execution_count": 34,
     "metadata": {},
     "output_type": "execute_result"
    }
   ],
   "source": [
    "soup.findAll('pre')"
   ]
  }
 ],
 "metadata": {
  "kernelspec": {
   "display_name": "Python 3",
   "language": "python",
   "name": "python3"
  },
  "language_info": {
   "codemirror_mode": {
    "name": "ipython",
    "version": 3
   },
   "file_extension": ".py",
   "mimetype": "text/x-python",
   "name": "python",
   "nbconvert_exporter": "python",
   "pygments_lexer": "ipython3",
   "version": "3.8.8"
  }
 },
 "nbformat": 4,
 "nbformat_minor": 5
}
