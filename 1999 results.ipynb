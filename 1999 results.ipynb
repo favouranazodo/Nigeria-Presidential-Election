{
 "cells": [
  {
   "cell_type": "code",
   "execution_count": 1,
   "id": "dfd9c02f",
   "metadata": {},
   "outputs": [],
   "source": [
    "import pandas as pd\n",
    "import numpy as np\n",
    "import matplotlib.pyplot as plt\n",
    "import seaborn as sns\n",
    "import requests\n",
    "from bs4 import BeautifulSoup as BS\n",
    "import re"
   ]
  },
  {
   "cell_type": "code",
   "execution_count": 2,
   "id": "1a9d5ff9",
   "metadata": {},
   "outputs": [],
   "source": [
    "url = \"https://www.electoralgeography.com/new/en/countries/n/nigeria/nigeria-presidential-election-1999.html\"\n",
    "html_text = requests.get(url)\n",
    "soup = BS(html_text.content, 'html.parser')"
   ]
  },
  {
   "cell_type": "code",
   "execution_count": 3,
   "id": "832cc5ad",
   "metadata": {},
   "outputs": [],
   "source": [
    "entry = soup.find('pre').text\n",
    "text_entry = re.sub('[-=]','',entry)"
   ]
  },
  {
   "cell_type": "code",
   "execution_count": 4,
   "id": "fb5d9a70",
   "metadata": {},
   "outputs": [
    {
     "data": {
      "text/plain": [
       "\"REPUBLIC OF NIGERIA\\r\\nPRESIDENTIAL ELECTION OF 27 FEBRUARY 1999\\r\\n===================================================================\\r\\nSource: Nigerian Congress website, People's Democratic Party \\r\\nwebsite\\r\\n\\r\\nParties\\r\\n-------------------------------------------------------------------\\r\\n* AD - Alliance for Democracy \\r\\n* APP - All People's Party \\r\\n* PDP - People's Democratic Party \\r\\n\\r\\nNATIONAL SUMMARY\\r\\n===================================================================\\r\\nRegistered Voters:                    57,938,945\\r\\nVotes Cast:                           30,280,052 (52.3)\\r\\nInvalid Votes:                           431,611 (01.4)\\r\\nValid Votes:                          29,848,441 (98.6)\\r\\n-------------------------------------------------------------------\\r\\nCandidate                Party        Votes       %\\r\\n-------------------------------------------------------------------\\r\\nSamuel Oluyemi Falae     AD-APP       11,110,287  37.2\\r\\nOlusegun OBASANJO        PDP          18,738,154  62.8\\r\\n-------------------------------------------------------------------\\r\\nTotal                                 29,848,441 (98.6)\\r\\n-------------------------------------------------------------------\\r\\n\\r\\nVOTE BY STATE\\r\\n===================================================================\\r\\nState          Falae (APP/AD)      Obasanjo (PDP)        Total\\r\\n-------------------------------------------------------------------\\r\\nAbia           175,095  32.7       360,823  67.3         535,918\\r\\nAbuja           39,788  40.2        59,234  59.8          99,022\\r\\nAdamawa        177,868  21.0       667,239  78.9         845,107\\r\\nAkwa Ibom      152,534  17.3       730,744  82.7         883,278\\r\\nAnambra        199,461  23.9       633,717  76.1         833,278\\r\\nBauchi         342,233  29.1       834,309  70.9       1,176,542\\r\\nBayelsa        152,220  24.4       457,812  75.0         610,032\\r\\nBenue          269,045  21.5       983,912  78.5       1,252,957\\r\\nBorno          334,593  36.5       581,382  63.5         915,975\\r\\nCross River    283,468  32.2       592,688  67.3         876,156\\r\\nDelta          240,334  29.4       576,230  70.7         816,574\\r\\nEbonyi          94,934  27.4       250,987  72.6         345,921\\r\\nEdo            163,203  24.0       516,581  76.0         679,784\\r\\nEkiti          522,072  73.1       191,618  26.8         713,690\\r\\nEnugu          195,168  23.4       640,418  76.6         835,586\\r\\nGombe          311,381  36.9       533,158  63.1         844,539\\r\\nImo            314,339  42.7       421,767  57.3         736,306\\r\\nJigawa         237,025  43.2       311,571  56.8         548,596\\r\\nKaduna         381,350  22.7     1,294,679  77.2       1,676,029\\r\\nKano           222,458  24.6       682,255  75.4         904,713\\r\\nKatsina        229,181  19.2       964,216  86.8       1,193,397\\r\\nKebbi          172,336  33.6       339,893  66.4         512,229\\r\\nKogi           476,807  48.4       507,903  51.6         984,710\\r\\nKwara          189,088  28.7       470,510  71.3         659,598\\r\\nLagos        1,542,969  88.1       209,012  11.9       1,751,981\\r\\nNassarawa      173,277  29.0       423,731  71.0         397,008\\r\\nNiger          140,465  16.2       730,665  83.9         871,130\\r\\nOndo           668,474  85.0       133,323  15.0         801,797\\r\\nOgun           332,340  69.8       143,564  30.2         475,904\\r\\nOsun           607,628  76.5       187,011  23.5         854,639\\r\\nOyo            693,510  75.3       227,688  24.7         921,178\\r\\nPlateau        173,370  25.8       499,072  74.2         672,442\\r\\nRivers         213,328  13.6     1,352,275  86.4       1,565,603\\r\\nSokto          198,829  56.1       155,598  43.9         354,427\\r\\nTaraba          81,290  09.3       789,749  90.7         871,039\\r\\nYobe           165,061  53.0       146,517  47.0         311,578\\r\\nZamfara        243,755  64.1       136,324  35.9         380,079\\r\\n-------------------------------------------------------------------\\r\\nTotal       11,110,287  37.2    18,738,154  62.7      29,848,441\""
      ]
     },
     "execution_count": 4,
     "metadata": {},
     "output_type": "execute_result"
    }
   ],
   "source": [
    "entry"
   ]
  },
  {
   "cell_type": "code",
   "execution_count": 5,
   "id": "715c2ad3",
   "metadata": {},
   "outputs": [
    {
     "data": {
      "text/plain": [
       "\"REPUBLIC OF NIGERIA\\r\\nPRESIDENTIAL ELECTION OF 27 FEBRUARY 1999\\r\\n\\r\\nSource: Nigerian Congress website, People's Democratic Party \\r\\nwebsite\\r\\n\\r\\nParties\\r\\n\\r\\n* AD  Alliance for Democracy \\r\\n* APP  All People's Party \\r\\n* PDP  People's Democratic Party \\r\\n\\r\\nNATIONAL SUMMARY\\r\\n\\r\\nRegistered Voters:                    57,938,945\\r\\nVotes Cast:                           30,280,052 (52.3)\\r\\nInvalid Votes:                           431,611 (01.4)\\r\\nValid Votes:                          29,848,441 (98.6)\\r\\n\\r\\nCandidate                Party        Votes       %\\r\\n\\r\\nSamuel Oluyemi Falae     ADAPP       11,110,287  37.2\\r\\nOlusegun OBASANJO        PDP          18,738,154  62.8\\r\\n\\r\\nTotal                                 29,848,441 (98.6)\\r\\n\\r\\n\\r\\nVOTE BY STATE\\r\\n\\r\\nState          Falae (APP/AD)      Obasanjo (PDP)        Total\\r\\n\\r\\nAbia           175,095  32.7       360,823  67.3         535,918\\r\\nAbuja           39,788  40.2        59,234  59.8          99,022\\r\\nAdamawa        177,868  21.0       667,239  78.9         845,107\\r\\nAkwa Ibom      152,534  17.3       730,744  82.7         883,278\\r\\nAnambra        199,461  23.9       633,717  76.1         833,278\\r\\nBauchi         342,233  29.1       834,309  70.9       1,176,542\\r\\nBayelsa        152,220  24.4       457,812  75.0         610,032\\r\\nBenue          269,045  21.5       983,912  78.5       1,252,957\\r\\nBorno          334,593  36.5       581,382  63.5         915,975\\r\\nCross River    283,468  32.2       592,688  67.3         876,156\\r\\nDelta          240,334  29.4       576,230  70.7         816,574\\r\\nEbonyi          94,934  27.4       250,987  72.6         345,921\\r\\nEdo            163,203  24.0       516,581  76.0         679,784\\r\\nEkiti          522,072  73.1       191,618  26.8         713,690\\r\\nEnugu          195,168  23.4       640,418  76.6         835,586\\r\\nGombe          311,381  36.9       533,158  63.1         844,539\\r\\nImo            314,339  42.7       421,767  57.3         736,306\\r\\nJigawa         237,025  43.2       311,571  56.8         548,596\\r\\nKaduna         381,350  22.7     1,294,679  77.2       1,676,029\\r\\nKano           222,458  24.6       682,255  75.4         904,713\\r\\nKatsina        229,181  19.2       964,216  86.8       1,193,397\\r\\nKebbi          172,336  33.6       339,893  66.4         512,229\\r\\nKogi           476,807  48.4       507,903  51.6         984,710\\r\\nKwara          189,088  28.7       470,510  71.3         659,598\\r\\nLagos        1,542,969  88.1       209,012  11.9       1,751,981\\r\\nNassarawa      173,277  29.0       423,731  71.0         397,008\\r\\nNiger          140,465  16.2       730,665  83.9         871,130\\r\\nOndo           668,474  85.0       133,323  15.0         801,797\\r\\nOgun           332,340  69.8       143,564  30.2         475,904\\r\\nOsun           607,628  76.5       187,011  23.5         854,639\\r\\nOyo            693,510  75.3       227,688  24.7         921,178\\r\\nPlateau        173,370  25.8       499,072  74.2         672,442\\r\\nRivers         213,328  13.6     1,352,275  86.4       1,565,603\\r\\nSokto          198,829  56.1       155,598  43.9         354,427\\r\\nTaraba          81,290  09.3       789,749  90.7         871,039\\r\\nYobe           165,061  53.0       146,517  47.0         311,578\\r\\nZamfara        243,755  64.1       136,324  35.9         380,079\\r\\n\\r\\nTotal       11,110,287  37.2    18,738,154  62.7      29,848,441\""
      ]
     },
     "execution_count": 5,
     "metadata": {},
     "output_type": "execute_result"
    }
   ],
   "source": [
    "text_entry"
   ]
  }
 ],
 "metadata": {
  "kernelspec": {
   "display_name": "Python 3",
   "language": "python",
   "name": "python3"
  },
  "language_info": {
   "codemirror_mode": {
    "name": "ipython",
    "version": 3
   },
   "file_extension": ".py",
   "mimetype": "text/x-python",
   "name": "python",
   "nbconvert_exporter": "python",
   "pygments_lexer": "ipython3",
   "version": "3.8.8"
  }
 },
 "nbformat": 4,
 "nbformat_minor": 5
}
